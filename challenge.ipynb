{
 "cells": [
  {
   "cell_type": "markdown",
   "id": "4606be9b",
   "metadata": {},
   "source": [
    "## Data Science Intern Challenge - Shopify\n",
    "\n",
    "(This is from the google sheets):\n",
    "On Shopify, we have exactly 100 sneaker shops, and each of these shops sells only one model of shoe. We want to do some analysis of the average order value (AOV). When we look at orders data over a 30 day window, we naively calculate an AOV of $3145.13. Given that we know these shops are selling sneakers, a relatively affordable item, something seems wrong with our analysis.\n",
    "\n",
    "###### Question 1: Given some sample data, write a program to answer the following: click here to access the required data set\n"
   ]
  },
  {
   "cell_type": "code",
   "execution_count": 41,
   "id": "fa794567",
   "metadata": {},
   "outputs": [
    {
     "data": {
      "text/html": [
       "<div>\n",
       "<style scoped>\n",
       "    .dataframe tbody tr th:only-of-type {\n",
       "        vertical-align: middle;\n",
       "    }\n",
       "\n",
       "    .dataframe tbody tr th {\n",
       "        vertical-align: top;\n",
       "    }\n",
       "\n",
       "    .dataframe thead th {\n",
       "        text-align: right;\n",
       "    }\n",
       "</style>\n",
       "<table border=\"1\" class=\"dataframe\">\n",
       "  <thead>\n",
       "    <tr style=\"text-align: right;\">\n",
       "      <th></th>\n",
       "      <th>order_id</th>\n",
       "      <th>shop_id</th>\n",
       "      <th>user_id</th>\n",
       "      <th>order_amount</th>\n",
       "      <th>total_items</th>\n",
       "      <th>payment_method</th>\n",
       "      <th>created_at</th>\n",
       "    </tr>\n",
       "  </thead>\n",
       "  <tbody>\n",
       "    <tr>\n",
       "      <th>0</th>\n",
       "      <td>1</td>\n",
       "      <td>53</td>\n",
       "      <td>746</td>\n",
       "      <td>224</td>\n",
       "      <td>2</td>\n",
       "      <td>cash</td>\n",
       "      <td>2017-03-13 12:36:56</td>\n",
       "    </tr>\n",
       "    <tr>\n",
       "      <th>1</th>\n",
       "      <td>2</td>\n",
       "      <td>92</td>\n",
       "      <td>925</td>\n",
       "      <td>90</td>\n",
       "      <td>1</td>\n",
       "      <td>cash</td>\n",
       "      <td>2017-03-03 17:38:52</td>\n",
       "    </tr>\n",
       "    <tr>\n",
       "      <th>2</th>\n",
       "      <td>3</td>\n",
       "      <td>44</td>\n",
       "      <td>861</td>\n",
       "      <td>144</td>\n",
       "      <td>1</td>\n",
       "      <td>cash</td>\n",
       "      <td>2017-03-14 4:23:56</td>\n",
       "    </tr>\n",
       "    <tr>\n",
       "      <th>3</th>\n",
       "      <td>4</td>\n",
       "      <td>18</td>\n",
       "      <td>935</td>\n",
       "      <td>156</td>\n",
       "      <td>1</td>\n",
       "      <td>credit_card</td>\n",
       "      <td>2017-03-26 12:43:37</td>\n",
       "    </tr>\n",
       "    <tr>\n",
       "      <th>4</th>\n",
       "      <td>5</td>\n",
       "      <td>18</td>\n",
       "      <td>883</td>\n",
       "      <td>156</td>\n",
       "      <td>1</td>\n",
       "      <td>credit_card</td>\n",
       "      <td>2017-03-01 4:35:11</td>\n",
       "    </tr>\n",
       "  </tbody>\n",
       "</table>\n",
       "</div>"
      ],
      "text/plain": [
       "   order_id  shop_id  user_id  order_amount  total_items payment_method  \\\n",
       "0         1       53      746           224            2           cash   \n",
       "1         2       92      925            90            1           cash   \n",
       "2         3       44      861           144            1           cash   \n",
       "3         4       18      935           156            1    credit_card   \n",
       "4         5       18      883           156            1    credit_card   \n",
       "\n",
       "            created_at  \n",
       "0  2017-03-13 12:36:56  \n",
       "1  2017-03-03 17:38:52  \n",
       "2   2017-03-14 4:23:56  \n",
       "3  2017-03-26 12:43:37  \n",
       "4   2017-03-01 4:35:11  "
      ]
     },
     "execution_count": 41,
     "metadata": {},
     "output_type": "execute_result"
    }
   ],
   "source": [
    "import pandas as pd\n",
    "import numpy as np\n",
    "\n",
    "df = pd.read_csv(\"2019 Winter Data Science Intern Challenge Data Set - Sheet1.csv\")\n",
    "df.head()"
   ]
  },
  {
   "cell_type": "code",
   "execution_count": 42,
   "id": "8e743a88",
   "metadata": {},
   "outputs": [
    {
     "data": {
      "text/plain": [
       "3145.128"
      ]
     },
     "execution_count": 42,
     "metadata": {},
     "output_type": "execute_result"
    }
   ],
   "source": [
    "t_aov = np.average(df['order_amount'])\n",
    "t_aov #simply confirming the AOV with t meaning test\n"
   ]
  },
  {
   "cell_type": "markdown",
   "id": "d8b1f094",
   "metadata": {},
   "source": [
    "Here's a potential problem. For instance, outliers could lead to increases in the average, therefore let's take a look at a scatter plot to view potential outliers that could exists in this data."
   ]
  },
  {
   "cell_type": "code",
   "execution_count": 43,
   "id": "f2d4cf1a",
   "metadata": {},
   "outputs": [
    {
     "data": {
      "text/plain": [
       "<matplotlib.collections.PathCollection at 0x217252cc7c0>"
      ]
     },
     "execution_count": 43,
     "metadata": {},
     "output_type": "execute_result"
    },
    {
     "data": {
      "image/png": "[encoded data removed]",
      "text/plain": [
       "<Figure size 432x288 with 1 Axes>"
      ]
     },
     "metadata": {
      "needs_background": "light"
     },
     "output_type": "display_data"
    }
   ],
   "source": [
    "import matplotlib.pyplot as plt\n",
    "%matplotlib inline\n",
    "\n",
    "X = df['order_id'] #it counts up from 1 to max so it would be a good X axis\n",
    "y = df['order_amount']\n",
    "\n",
    "plt.scatter(X, y)"
   ]
  },
  {
   "cell_type": "markdown",
   "id": "0766a3f8",
   "metadata": {},
   "source": [
    "As you can see, the average range of the Y values exists belows the 100,000 mark. Let's take a look at what the data would look like if we got rid of some of these data points. Take a look at the supposed \"straight line\" that exists towards the bottom of the graph. That is where majority of the data sits. So all the dots which are clearly separated from one another are outliers. So let us take out all data that is above around 20,000."
   ]
  },
  {
   "cell_type": "code",
   "execution_count": 44,
   "id": "b05875f6",
   "metadata": {},
   "outputs": [
    {
     "data": {
      "text/plain": [
       "302.58051448247926"
      ]
     },
     "execution_count": 44,
     "metadata": {},
     "output_type": "execute_result"
    },
    {
     "data": {
      "image/png": "[encoded data removed]",
      "text/plain": [
       "<Figure size 432x288 with 1 Axes>"
      ]
     },
     "metadata": {
      "needs_background": "light"
     },
     "output_type": "display_data"
    }
   ],
   "source": [
    "newdata1 = df[df['order_amount']<20000]\n",
    "\n",
    "X = newdata1['order_id'] #it counts up from 1 to max so it would be a good X axis\n",
    "y = newdata1['order_amount']\n",
    "\n",
    "plt.scatter(X, y)\n",
    "newdata1_aov = np.average(newdata1['order_amount'])\n",
    "newdata1_aov"
   ]
  },
  {
   "cell_type": "markdown",
   "id": "c6075ecd",
   "metadata": {},
   "source": [
    "Are these outliers really problematic? The order amount and the total items are relative to one another. Therefore, let us get the order amount for single individual amounts."
   ]
  },
  {
   "cell_type": "code",
   "execution_count": 45,
   "id": "08aa4f12",
   "metadata": {},
   "outputs": [
    {
     "data": {
      "text/html": [
       "<div>\n",
       "<style scoped>\n",
       "    .dataframe tbody tr th:only-of-type {\n",
       "        vertical-align: middle;\n",
       "    }\n",
       "\n",
       "    .dataframe tbody tr th {\n",
       "        vertical-align: top;\n",
       "    }\n",
       "\n",
       "    .dataframe thead th {\n",
       "        text-align: right;\n",
       "    }\n",
       "</style>\n",
       "<table border=\"1\" class=\"dataframe\">\n",
       "  <thead>\n",
       "    <tr style=\"text-align: right;\">\n",
       "      <th></th>\n",
       "      <th>order_id</th>\n",
       "      <th>shop_id</th>\n",
       "      <th>user_id</th>\n",
       "      <th>order_amount</th>\n",
       "      <th>payment_method</th>\n",
       "      <th>created_at</th>\n",
       "    </tr>\n",
       "  </thead>\n",
       "  <tbody>\n",
       "    <tr>\n",
       "      <th>0</th>\n",
       "      <td>1</td>\n",
       "      <td>53</td>\n",
       "      <td>746</td>\n",
       "      <td>112.0</td>\n",
       "      <td>cash</td>\n",
       "      <td>2017-03-13 12:36:56</td>\n",
       "    </tr>\n",
       "    <tr>\n",
       "      <th>1</th>\n",
       "      <td>2</td>\n",
       "      <td>92</td>\n",
       "      <td>925</td>\n",
       "      <td>90.0</td>\n",
       "      <td>cash</td>\n",
       "      <td>2017-03-03 17:38:52</td>\n",
       "    </tr>\n",
       "    <tr>\n",
       "      <th>2</th>\n",
       "      <td>3</td>\n",
       "      <td>44</td>\n",
       "      <td>861</td>\n",
       "      <td>144.0</td>\n",
       "      <td>cash</td>\n",
       "      <td>2017-03-14 4:23:56</td>\n",
       "    </tr>\n",
       "    <tr>\n",
       "      <th>3</th>\n",
       "      <td>4</td>\n",
       "      <td>18</td>\n",
       "      <td>935</td>\n",
       "      <td>156.0</td>\n",
       "      <td>credit_card</td>\n",
       "      <td>2017-03-26 12:43:37</td>\n",
       "    </tr>\n",
       "    <tr>\n",
       "      <th>4</th>\n",
       "      <td>5</td>\n",
       "      <td>18</td>\n",
       "      <td>883</td>\n",
       "      <td>156.0</td>\n",
       "      <td>credit_card</td>\n",
       "      <td>2017-03-01 4:35:11</td>\n",
       "    </tr>\n",
       "  </tbody>\n",
       "</table>\n",
       "</div>"
      ],
      "text/plain": [
       "   order_id  shop_id  user_id  order_amount payment_method  \\\n",
       "0         1       53      746         112.0           cash   \n",
       "1         2       92      925          90.0           cash   \n",
       "2         3       44      861         144.0           cash   \n",
       "3         4       18      935         156.0    credit_card   \n",
       "4         5       18      883         156.0    credit_card   \n",
       "\n",
       "            created_at  \n",
       "0  2017-03-13 12:36:56  \n",
       "1  2017-03-03 17:38:52  \n",
       "2   2017-03-14 4:23:56  \n",
       "3  2017-03-26 12:43:37  \n",
       "4   2017-03-01 4:35:11  "
      ]
     },
     "execution_count": 45,
     "metadata": {},
     "output_type": "execute_result"
    }
   ],
   "source": [
    "newdata2 = df\n",
    "newdata2['order_amount'] = newdata2['order_amount'] / newdata2['total_items']\n",
    "newdata2 = newdata2.drop('total_items', axis=1) #since everything is accounting for 1 item.\n",
    "newdata2.head()"
   ]
  },
  {
   "cell_type": "markdown",
   "id": "00fb6927",
   "metadata": {},
   "source": [
    "Since this all takes place in March of 2017, there will be no need to take into consideration of the duration. Therefore, let's take a look at the final AOV."
   ]
  },
  {
   "cell_type": "code",
   "execution_count": 46,
   "id": "59161116",
   "metadata": {},
   "outputs": [
    {
     "data": {
      "text/plain": [
       "387.7428"
      ]
     },
     "execution_count": 46,
     "metadata": {},
     "output_type": "execute_result"
    }
   ],
   "source": [
    "final_aov = np.average(newdata2['order_amount'])\n",
    "\n",
    "final_aov"
   ]
  },
  {
   "cell_type": "markdown",
   "id": "d9982093",
   "metadata": {},
   "source": [
    "So the correct analysis would be 387.7 for the AOV (Average Order Value)."
   ]
  },
  {
   "cell_type": "markdown",
   "id": "faefa717",
   "metadata": {},
   "source": [
    "##### For this question you’ll need to use SQL. Follow this link to access the data set required for the challenge. Please use queries to answer the following questions. Paste your queries along with your final numerical answers below.\n",
    "\n",
    "##### How many orders were shipped by Speedy Express in total?\n",
    "\n"
   ]
  },
  {
   "cell_type": "markdown",
   "id": "0b8339eb",
   "metadata": {},
   "source": [
    "SELECT COUNT(OrderID) FROM Orders WHERE ShipperID = 1;"
   ]
  },
  {
   "cell_type": "markdown",
   "id": "bb5f5714",
   "metadata": {},
   "source": [
    "There are 54 Orders shipped by Speedy Express.\n",
    "\n",
    "##### What is the last name of the employee with the most orders?\n"
   ]
  },
  {
   "cell_type": "markdown",
   "id": "ff9fdb6f",
   "metadata": {},
   "source": [
    "SELECT MAX(`Number Of Orders`) AS 'Number of Orders', `Orders`.EmployeeID, (SELECT LastName FROM Employees WHERE Employees.EmployeeID = `Orders`.EmployeeID) FROM (SELECT EmployeeID AS 'EmployeeID', COUNT(EmployeeID) AS 'Number of Orders' FROM Orders GROUP BY EmployeeID) AS `Orders` JOIN Employees;"
   ]
  },
  {
   "cell_type": "markdown",
   "id": "a84dec7c",
   "metadata": {},
   "source": [
    "The last name of the employee with the most orders is Peacock.\n",
    "\n",
    "\n",
    "##### What product was ordered the most by customers in Germany?"
   ]
  },
  {
   "cell_type": "markdown",
   "id": "58eabae1",
   "metadata": {},
   "source": [
    "\n",
    "SELECT MAX(\"Number of Products\"), ProductName \n",
    "FROM (SELECT Products.ProductName, COUNT(Products.ProductName) AS \"Number of Products\" FROM Orders \n",
    "                                        JOIN Customers ON Customers.CustomerID=Orders.CustomerID \n",
    "                                        JOIN OrderDetails ON OrderDetails.OrderID = Orders.OrderID\n",
    "                                        JOIN Products ON Products.ProductID = OrderDetails.ProductID\n",
    "                                        WHERE Customers.Country = \"Germany\" GROUP BY Products.ProductName);"
   ]
  },
  {
   "cell_type": "markdown",
   "id": "7f3c2f5e",
   "metadata": {},
   "source": [
    "\n",
    "The product that was ordered most by customers in Germany was Gorgonzola Telino. "
   ]
  }
 ],
 "metadata": {
  "kernelspec": {
   "display_name": "Python 3 (ipykernel)",
   "language": "python",
   "name": "python3"
  },
  "language_info": {
   "codemirror_mode": {
    "name": "ipython",
    "version": 3
   },
   "file_extension": ".py",
   "mimetype": "text/x-python",
   "name": "python",
   "nbconvert_exporter": "python",
   "pygments_lexer": "ipython3",
   "version": "3.9.7"
  }
 },
 "nbformat": 4,
 "nbformat_minor": 5
}
